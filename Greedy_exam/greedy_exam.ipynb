{
 "cells": [
  {
   "cell_type": "markdown",
   "metadata": {},
   "source": [
    "# 모험가 길드"
   ]
  },
  {
   "cell_type": "code",
   "execution_count": 3,
   "metadata": {},
   "outputs": [
    {
     "name": "stdout",
     "output_type": "stream",
     "text": [
      "5\n",
      "2 3 2 1 2\n",
      "2\n"
     ]
    }
   ],
   "source": [
    "n = int(input())\n",
    "travler = list(map(int, input().split()))\n",
    "travler.sort()\n",
    " \n",
    "cnt = sum = 0\n",
    "for t in travler:\n",
    "  sum += 1\n",
    "  if sum == t:\n",
    "    cnt += 1\n",
    "    sum = 0\n",
    " \n",
    "print(cnt)"
   ]
  },
  {
   "cell_type": "markdown",
   "metadata": {},
   "source": [
    "# 곱하기 혹은 더하기"
   ]
  },
  {
   "cell_type": "code",
   "execution_count": 5,
   "metadata": {},
   "outputs": [
    {
     "name": "stdout",
     "output_type": "stream",
     "text": [
      "123\n",
      "9\n"
     ]
    }
   ],
   "source": [
    "num = input()\n",
    "answer = int(num[0])\n",
    "\n",
    "for i in range(1, len(num)):\n",
    "    if int(num[i]) < 2 or answer < 2 :\n",
    "        answer += int(num[i])\n",
    "    else :\n",
    "        answer *= int(num[i])\n",
    "\n",
    "print(answer)"
   ]
  },
  {
   "cell_type": "markdown",
   "metadata": {},
   "source": [
    "# 문자열 뒤집기"
   ]
  },
  {
   "cell_type": "code",
   "execution_count": 7,
   "metadata": {
    "scrolled": true
   },
   "outputs": [
    {
     "name": "stdout",
     "output_type": "stream",
     "text": [
      "1110001100010\n",
      "3\n"
     ]
    }
   ],
   "source": [
    "data = input()\n",
    "cnt0 = 0 # 전부 0으로 바꾸는 경우\n",
    "cnt1 = 0 # 전부 1로 바꾸는 경우\n",
    "\n",
    "# 첫 번째 원소에 대해서 처리\n",
    "if data[0] == '1':\n",
    "    cnt0 += 1\n",
    "else:\n",
    "    cnt1 += 1\n",
    "\n",
    "# 두 번째 원소부터 모든 원소를 확인하며\n",
    "for i in range(len(data) - 1):\n",
    "    if data[i] != data[i + 1]:\n",
    "        # 다음 수에서 1로 바뀌는 경우\n",
    "        if data[i + 1] == '1':\n",
    "            cnt0 += 1\n",
    "        # 다음 수에서 0으로 바뀌는 경우\n",
    "        else:\n",
    "            cnt1 += 1\n",
    "\n",
    "print(min(cnt0, cnt1))"
   ]
  },
  {
   "cell_type": "markdown",
   "metadata": {},
   "source": [
    "# 만들 수 없는 금액"
   ]
  },
  {
   "cell_type": "code",
   "execution_count": 9,
   "metadata": {},
   "outputs": [
    {
     "name": "stdout",
     "output_type": "stream",
     "text": [
      "3\n",
      "5 3 2 1 3\n",
      "15\n"
     ]
    }
   ],
   "source": [
    "s = int(input())\n",
    "data = list(map(int, input().split()))\n",
    "data.sort()\n",
    "\n",
    "target = 1\n",
    "for x in data:\n",
    "    # 만들 수 없는 금액을 찾았을 때 반복 종료\n",
    "    if target < x:\n",
    "        break\n",
    "    target += x\n",
    "\n",
    "# 만들 수 없는 금액 출력\n",
    "print(target)"
   ]
  },
  {
   "cell_type": "markdown",
   "metadata": {},
   "source": [
    "# 볼링공 고르기"
   ]
  },
  {
   "cell_type": "code",
   "execution_count": 18,
   "metadata": {},
   "outputs": [
    {
     "name": "stdout",
     "output_type": "stream",
     "text": [
      "8 4\n",
      "2 6 3 4 1 3 4 4\n",
      "24\n"
     ]
    }
   ],
   "source": [
    "n, m = map(int, input().split()) \n",
    "data = list(map(int, input().split())) # 1부터 10까지의 무게를 담을 수 있는 리스트 \n",
    "array = [0] * 11 \n",
    "for x in data: # 각 무게에 해당하는 볼링공의 개수 카운트 \n",
    "    array[x] += 1 \n",
    "\n",
    "result = 0 # 1부터 m까지의 각 무게에 대하여 처리 \n",
    "\n",
    "for i in range(1, m + 1): \n",
    "     n -= array[i] # 무게가 i인 볼링공의 개수(A가 선택할 수 있는 개수) 제외 \n",
    "     result += array[i] * n # B가 선택하는 경우의 수와 곱해주기 \n",
    "\n",
    "print(result)"
   ]
  },
  {
   "cell_type": "markdown",
   "metadata": {},
   "source": [
    "# 무지의 먹방 라이브"
   ]
  },
  {
   "cell_type": "code",
   "execution_count": 23,
   "metadata": {},
   "outputs": [],
   "source": [
    " import heapq "
   ]
  },
  {
   "cell_type": "code",
   "execution_count": 41,
   "metadata": {},
   "outputs": [],
   "source": [
    "def solution(food_times, k):\n",
    "    answer = 0\n",
    "    time = 0\n",
    "    pq = []\n",
    "    answer_rs = []\n",
    "    # 1. 우선순위 큐에 (food_times, 음식 번호) 순으로 담는다.\n",
    "    for i in range(len(food_times)):\n",
    "        heapq.heappush(pq, [food_times[i], i + 1])\n",
    "\n",
    "    pre_food = 0\n",
    "    flag = True\n",
    "    while flag:\n",
    "        if not pq:\n",
    "            return -1\n",
    "        length = len(pq)\n",
    "        time += (pq[0][0] - pre_food) * length\n",
    "        if time > k:\n",
    "            time -= (pq[0][0] - pre_food) * length\n",
    "            while pq:\n",
    "                answer_rs.append(heapq.heappop(pq)[1])\n",
    "            answer_rs.sort()\n",
    "            answer = answer_rs[(k - time) % length]\n",
    "            flag = False\n",
    "        else:\n",
    "            pre_food = heapq.heappop(pq)[0]\n",
    "    return answer"
   ]
  },
  {
   "cell_type": "code",
   "execution_count": null,
   "metadata": {},
   "outputs": [],
   "source": []
  }
 ],
 "metadata": {
  "kernelspec": {
   "display_name": "Python 3",
   "language": "python",
   "name": "python3"
  },
  "language_info": {
   "codemirror_mode": {
    "name": "ipython",
    "version": 3
   },
   "file_extension": ".py",
   "mimetype": "text/x-python",
   "name": "python",
   "nbconvert_exporter": "python",
   "pygments_lexer": "ipython3",
   "version": "3.8.3"
  }
 },
 "nbformat": 4,
 "nbformat_minor": 4
}
