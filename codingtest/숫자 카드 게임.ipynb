{
 "cells": [
  {
   "cell_type": "markdown",
   "metadata": {},
   "source": [
    "## 숫자 카드 게임\n",
    "\n",
    "숫자 카드 게임은 여러 개의 숫자 카드 중에서 가장 높은 숫자가 쓰인 카드 한 장을 뽑는 게임이다.\n",
    "\n",
    "1. 숫자가 쓰인 카드들이 N X M 형태로 놓여 있다. 이때 N은 행의 개수를 의미하고, M은 열의 개수를 의미\n",
    "\n",
    "2. 먼저 뽑고자 하는 카드가 포함된 행을 선택\n",
    "\n",
    "3. 선택된 행에 포함된 카드들 중 가장 숫자가 낮은 카드를 뽑음\n",
    "\n",
    "4. 처음에 카드를 골라낼 행을 선택할 때, 이후 해당 행에서 가장 숫자가 낮은 카드를 뽑아야 하는 것을 고려해 가장 높은 숫자를 뽑을 수 있도록 해야함"
   ]
  },
  {
   "cell_type": "code",
   "execution_count": 6,
   "metadata": {},
   "outputs": [
    {
     "name": "stdout",
     "output_type": "stream",
     "text": [
      "3 3 \n",
      "1 1 2 \n",
      "1 1 2\n",
      "3 3 3\n",
      "3\n"
     ]
    }
   ],
   "source": [
    "n,m = map(int,input().split())\n",
    "\n",
    "answer = 0\n",
    "row_min = []\n",
    "\n",
    "for j in range(n):\n",
    "        row = list(map(int,input().split()))\n",
    "        row_min.append(min(row))\n",
    "\n",
    "answer = max(row_min)\n",
    "\n",
    "print(answer);"
   ]
  }
 ],
 "metadata": {
  "kernelspec": {
   "display_name": "Python 3",
   "language": "python",
   "name": "python3"
  },
  "language_info": {
   "codemirror_mode": {
    "name": "ipython",
    "version": 3
   },
   "file_extension": ".py",
   "mimetype": "text/x-python",
   "name": "python",
   "nbconvert_exporter": "python",
   "pygments_lexer": "ipython3",
   "version": "3.8.3"
  }
 },
 "nbformat": 4,
 "nbformat_minor": 4
}
