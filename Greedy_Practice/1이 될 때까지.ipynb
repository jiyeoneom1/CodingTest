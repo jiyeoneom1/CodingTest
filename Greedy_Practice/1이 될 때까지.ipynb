{
 "cells": [
  {
   "cell_type": "markdown",
   "metadata": {},
   "source": [
    "## 1이 될 때 까지\n",
    "\n",
    "어떠한 수 N이 1이 될 때까지 1)N에서 1을 빼는 경우와 2)N을 K로 나누는 경우 중 하나를 반복적으로 선택하여 수행하고자 한다.\n",
    "\n",
    "N과 K가 주어질 때, N이 1이 될 때까지 1)번 혹은 2)번의 과정을 수행해야 하는 최소 횟수를 구하는 프로그램을 작성하시오.\n"
   ]
  },
  {
   "cell_type": "code",
   "execution_count": 2,
   "metadata": {},
   "outputs": [
    {
     "name": "stdout",
     "output_type": "stream",
     "text": [
      "17 4\n",
      "3\n"
     ]
    }
   ],
   "source": [
    "# n, k를 공백을 기준으로 입력 받기\n",
    "n, k = map(int, input().split())\n",
    "\n",
    "answer = 0\n",
    "\n",
    "# n이 1이 되기 전까지 반복문을 돈다.\n",
    "while n != 1:\n",
    "  if k <= n:\n",
    "    # 3. N이 K의 배수이면 N을 K로 나눈다.\n",
    "    if n % k == 0:\n",
    "      answer += 1\n",
    "      n //= k\n",
    "      \n",
    "    else:\n",
    "      # 2. N이 K보다 크거나 같고, N이 K의 배수가 아니면 N % K 만큼 빼고, 연산 횟수는 N % K만큼 더한다. \n",
    "      answer += (n % k)\n",
    "      n -= (n % k)\n",
    "  else:\n",
    "    # 2. N이 K보다 작으면, N - 1 만큼 빼고, 연산 횟수는 N - 1만큼 더한다.\n",
    "    answer += (n - 1)\n",
    "    n = 1\n",
    "\n",
    "# 연산을 수행하는 횟수의 최솟값 출력\n",
    "print(answer)"
   ]
  },
  {
   "cell_type": "code",
   "execution_count": null,
   "metadata": {},
   "outputs": [],
   "source": []
  }
 ],
 "metadata": {
  "kernelspec": {
   "display_name": "Python 3",
   "language": "python",
   "name": "python3"
  },
  "language_info": {
   "codemirror_mode": {
    "name": "ipython",
    "version": 3
   },
   "file_extension": ".py",
   "mimetype": "text/x-python",
   "name": "python",
   "nbconvert_exporter": "python",
   "pygments_lexer": "ipython3",
   "version": "3.8.3"
  }
 },
 "nbformat": 4,
 "nbformat_minor": 4
}
